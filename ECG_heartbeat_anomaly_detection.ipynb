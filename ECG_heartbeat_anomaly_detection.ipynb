{
 "cells": [
  {
   "cell_type": "markdown",
   "metadata": {},
   "source": [
    "# Anomaly detection in electrocardiogram (ECG) data\n",
    "We use PyTorch to build an unsupervised long short-term memory (LSTM) autoencoder to detect anomalies in time series data of ECG heartbeat waveforms."
   ]
  },
  {
   "cell_type": "code",
   "execution_count": 41,
   "metadata": {},
   "outputs": [],
   "source": [
    "import os\n",
    "import random\n",
    "\n",
    "import numpy as np\n",
    "import pandas as pd\n",
    "import seaborn as sns\n",
    "\n",
    "from sklearn.model_selection import train_test_split\n",
    "from sklearn.metrics import precision_score, recall_score, accuracy_score, f1_score, confusion_matrix\n",
    "\n",
    "import torch\n",
    "import torch.nn as nn\n",
    "import torch.nn.functional as F\n",
    "import torch.optim as optim\n",
    "\n",
    "import matplotlib.pyplot as plt\n",
    "%matplotlib inline"
   ]
  },
  {
   "cell_type": "code",
   "execution_count": 2,
   "metadata": {},
   "outputs": [],
   "source": [
    "# Check if CUDA is available and set variable 'device' accordingly\n",
    "device = torch.device('cuda' if torch.cuda.is_available() else 'cpu')"
   ]
  },
  {
   "cell_type": "markdown",
   "metadata": {},
   "source": [
    "### The dataset\n",
    "The raw ECG data is available at the [PTB Diagnostic ECG Database](https://www.physionet.org/content/ptbdb/1.0.0/) and was collected from heart-disease patients and healthy volunteers. We use already preprocessed data which is segmented to individual heartbeats from [kaggle](https://www.kaggle.com/shayanfazeli/heartbeat). We note that the preprocessing steps are not outlined in detail and that the clinical summaries corresponding to the individual waveforms are not available any more. Thus, the performance of the anomaly detection will not be optimimal. However, we will focus on the implementation of the LSTM autoencoder and not on the applicability in the real world. "
   ]
  },
  {
   "cell_type": "code",
   "execution_count": 3,
   "metadata": {},
   "outputs": [],
   "source": [
    "dataDir = 'data'\n",
    "\n",
    "# The heartbeats are categorized in two categories: normal/healthy and abnormal\n",
    "csvN = os.path.join(dataDir, 'ptbdb_normal.csv')\n",
    "csvA = os.path.join(dataDir, 'ptbdb_abnormal.csv')\n",
    "\n",
    "# Load dataset\n",
    "dfN = pd.read_csv(csvN, header=None)\n",
    "dfA = pd.read_csv(csvA, header=None)\n",
    "\n",
    "# Drop the last column which seems to be the class labels (i.e., 0 or 1)\n",
    "dfN.drop(dfN.columns[len(dfN.columns)-1], axis=1, inplace=True)\n",
    "dfA.drop(dfA.columns[len(dfA.columns)-1], axis=1, inplace=True)\n",
    "\n",
    "# Shuffle data\n",
    "dfN = dfN.sample(frac=1., random_state=42).reset_index(drop=True)\n",
    "dfA = dfA.sample(frac=1., random_state=42).reset_index(drop=True)"
   ]
  },
  {
   "cell_type": "code",
   "execution_count": 4,
   "metadata": {
    "scrolled": true
   },
   "outputs": [
    {
     "data": {
      "text/html": [
       "<div>\n",
       "<style scoped>\n",
       "    .dataframe tbody tr th:only-of-type {\n",
       "        vertical-align: middle;\n",
       "    }\n",
       "\n",
       "    .dataframe tbody tr th {\n",
       "        vertical-align: top;\n",
       "    }\n",
       "\n",
       "    .dataframe thead th {\n",
       "        text-align: right;\n",
       "    }\n",
       "</style>\n",
       "<table border=\"1\" class=\"dataframe\">\n",
       "  <thead>\n",
       "    <tr style=\"text-align: right;\">\n",
       "      <th></th>\n",
       "      <th>0</th>\n",
       "      <th>1</th>\n",
       "      <th>2</th>\n",
       "      <th>3</th>\n",
       "      <th>4</th>\n",
       "      <th>5</th>\n",
       "      <th>6</th>\n",
       "      <th>7</th>\n",
       "      <th>8</th>\n",
       "      <th>9</th>\n",
       "      <th>...</th>\n",
       "      <th>177</th>\n",
       "      <th>178</th>\n",
       "      <th>179</th>\n",
       "      <th>180</th>\n",
       "      <th>181</th>\n",
       "      <th>182</th>\n",
       "      <th>183</th>\n",
       "      <th>184</th>\n",
       "      <th>185</th>\n",
       "      <th>186</th>\n",
       "    </tr>\n",
       "  </thead>\n",
       "  <tbody>\n",
       "    <tr>\n",
       "      <th>0</th>\n",
       "      <td>0.997871</td>\n",
       "      <td>0.847595</td>\n",
       "      <td>0.428693</td>\n",
       "      <td>0.192422</td>\n",
       "      <td>0.044274</td>\n",
       "      <td>0.009366</td>\n",
       "      <td>0.080034</td>\n",
       "      <td>0.122180</td>\n",
       "      <td>0.142614</td>\n",
       "      <td>0.153682</td>\n",
       "      <td>...</td>\n",
       "      <td>0.0</td>\n",
       "      <td>0.0</td>\n",
       "      <td>0.0</td>\n",
       "      <td>0.0</td>\n",
       "      <td>0.0</td>\n",
       "      <td>0.0</td>\n",
       "      <td>0.0</td>\n",
       "      <td>0.0</td>\n",
       "      <td>0.0</td>\n",
       "      <td>0.0</td>\n",
       "    </tr>\n",
       "    <tr>\n",
       "      <th>1</th>\n",
       "      <td>1.000000</td>\n",
       "      <td>0.454686</td>\n",
       "      <td>0.067971</td>\n",
       "      <td>0.000515</td>\n",
       "      <td>0.000000</td>\n",
       "      <td>0.083934</td>\n",
       "      <td>0.126674</td>\n",
       "      <td>0.148816</td>\n",
       "      <td>0.162204</td>\n",
       "      <td>0.181771</td>\n",
       "      <td>...</td>\n",
       "      <td>0.0</td>\n",
       "      <td>0.0</td>\n",
       "      <td>0.0</td>\n",
       "      <td>0.0</td>\n",
       "      <td>0.0</td>\n",
       "      <td>0.0</td>\n",
       "      <td>0.0</td>\n",
       "      <td>0.0</td>\n",
       "      <td>0.0</td>\n",
       "      <td>0.0</td>\n",
       "    </tr>\n",
       "    <tr>\n",
       "      <th>2</th>\n",
       "      <td>1.000000</td>\n",
       "      <td>0.980458</td>\n",
       "      <td>0.470350</td>\n",
       "      <td>0.235849</td>\n",
       "      <td>0.035040</td>\n",
       "      <td>0.182615</td>\n",
       "      <td>0.330189</td>\n",
       "      <td>0.359838</td>\n",
       "      <td>0.382075</td>\n",
       "      <td>0.396226</td>\n",
       "      <td>...</td>\n",
       "      <td>0.0</td>\n",
       "      <td>0.0</td>\n",
       "      <td>0.0</td>\n",
       "      <td>0.0</td>\n",
       "      <td>0.0</td>\n",
       "      <td>0.0</td>\n",
       "      <td>0.0</td>\n",
       "      <td>0.0</td>\n",
       "      <td>0.0</td>\n",
       "      <td>0.0</td>\n",
       "    </tr>\n",
       "    <tr>\n",
       "      <th>3</th>\n",
       "      <td>0.949455</td>\n",
       "      <td>0.764270</td>\n",
       "      <td>0.242266</td>\n",
       "      <td>0.086710</td>\n",
       "      <td>0.087582</td>\n",
       "      <td>0.138562</td>\n",
       "      <td>0.161220</td>\n",
       "      <td>0.155120</td>\n",
       "      <td>0.145969</td>\n",
       "      <td>0.148584</td>\n",
       "      <td>...</td>\n",
       "      <td>0.0</td>\n",
       "      <td>0.0</td>\n",
       "      <td>0.0</td>\n",
       "      <td>0.0</td>\n",
       "      <td>0.0</td>\n",
       "      <td>0.0</td>\n",
       "      <td>0.0</td>\n",
       "      <td>0.0</td>\n",
       "      <td>0.0</td>\n",
       "      <td>0.0</td>\n",
       "    </tr>\n",
       "    <tr>\n",
       "      <th>4</th>\n",
       "      <td>0.914286</td>\n",
       "      <td>0.922286</td>\n",
       "      <td>0.590857</td>\n",
       "      <td>0.149714</td>\n",
       "      <td>0.000000</td>\n",
       "      <td>0.236000</td>\n",
       "      <td>0.321714</td>\n",
       "      <td>0.386857</td>\n",
       "      <td>0.414286</td>\n",
       "      <td>0.433714</td>\n",
       "      <td>...</td>\n",
       "      <td>0.0</td>\n",
       "      <td>0.0</td>\n",
       "      <td>0.0</td>\n",
       "      <td>0.0</td>\n",
       "      <td>0.0</td>\n",
       "      <td>0.0</td>\n",
       "      <td>0.0</td>\n",
       "      <td>0.0</td>\n",
       "      <td>0.0</td>\n",
       "      <td>0.0</td>\n",
       "    </tr>\n",
       "    <tr>\n",
       "      <th>...</th>\n",
       "      <td>...</td>\n",
       "      <td>...</td>\n",
       "      <td>...</td>\n",
       "      <td>...</td>\n",
       "      <td>...</td>\n",
       "      <td>...</td>\n",
       "      <td>...</td>\n",
       "      <td>...</td>\n",
       "      <td>...</td>\n",
       "      <td>...</td>\n",
       "      <td>...</td>\n",
       "      <td>...</td>\n",
       "      <td>...</td>\n",
       "      <td>...</td>\n",
       "      <td>...</td>\n",
       "      <td>...</td>\n",
       "      <td>...</td>\n",
       "      <td>...</td>\n",
       "      <td>...</td>\n",
       "      <td>...</td>\n",
       "      <td>...</td>\n",
       "    </tr>\n",
       "    <tr>\n",
       "      <th>4041</th>\n",
       "      <td>1.000000</td>\n",
       "      <td>0.886778</td>\n",
       "      <td>0.326257</td>\n",
       "      <td>0.071136</td>\n",
       "      <td>0.093855</td>\n",
       "      <td>0.162756</td>\n",
       "      <td>0.152700</td>\n",
       "      <td>0.147486</td>\n",
       "      <td>0.142272</td>\n",
       "      <td>0.141899</td>\n",
       "      <td>...</td>\n",
       "      <td>0.0</td>\n",
       "      <td>0.0</td>\n",
       "      <td>0.0</td>\n",
       "      <td>0.0</td>\n",
       "      <td>0.0</td>\n",
       "      <td>0.0</td>\n",
       "      <td>0.0</td>\n",
       "      <td>0.0</td>\n",
       "      <td>0.0</td>\n",
       "      <td>0.0</td>\n",
       "    </tr>\n",
       "    <tr>\n",
       "      <th>4042</th>\n",
       "      <td>1.000000</td>\n",
       "      <td>0.770000</td>\n",
       "      <td>0.395652</td>\n",
       "      <td>0.199130</td>\n",
       "      <td>0.015652</td>\n",
       "      <td>0.046957</td>\n",
       "      <td>0.117826</td>\n",
       "      <td>0.147826</td>\n",
       "      <td>0.146522</td>\n",
       "      <td>0.149130</td>\n",
       "      <td>...</td>\n",
       "      <td>0.0</td>\n",
       "      <td>0.0</td>\n",
       "      <td>0.0</td>\n",
       "      <td>0.0</td>\n",
       "      <td>0.0</td>\n",
       "      <td>0.0</td>\n",
       "      <td>0.0</td>\n",
       "      <td>0.0</td>\n",
       "      <td>0.0</td>\n",
       "      <td>0.0</td>\n",
       "    </tr>\n",
       "    <tr>\n",
       "      <th>4043</th>\n",
       "      <td>0.961121</td>\n",
       "      <td>0.524864</td>\n",
       "      <td>0.051537</td>\n",
       "      <td>0.000452</td>\n",
       "      <td>0.000000</td>\n",
       "      <td>0.089964</td>\n",
       "      <td>0.147378</td>\n",
       "      <td>0.146022</td>\n",
       "      <td>0.153255</td>\n",
       "      <td>0.158228</td>\n",
       "      <td>...</td>\n",
       "      <td>0.0</td>\n",
       "      <td>0.0</td>\n",
       "      <td>0.0</td>\n",
       "      <td>0.0</td>\n",
       "      <td>0.0</td>\n",
       "      <td>0.0</td>\n",
       "      <td>0.0</td>\n",
       "      <td>0.0</td>\n",
       "      <td>0.0</td>\n",
       "      <td>0.0</td>\n",
       "    </tr>\n",
       "    <tr>\n",
       "      <th>4044</th>\n",
       "      <td>0.975960</td>\n",
       "      <td>0.867241</td>\n",
       "      <td>0.465734</td>\n",
       "      <td>0.212774</td>\n",
       "      <td>0.000718</td>\n",
       "      <td>0.001435</td>\n",
       "      <td>0.067815</td>\n",
       "      <td>0.083961</td>\n",
       "      <td>0.081091</td>\n",
       "      <td>0.083602</td>\n",
       "      <td>...</td>\n",
       "      <td>0.0</td>\n",
       "      <td>0.0</td>\n",
       "      <td>0.0</td>\n",
       "      <td>0.0</td>\n",
       "      <td>0.0</td>\n",
       "      <td>0.0</td>\n",
       "      <td>0.0</td>\n",
       "      <td>0.0</td>\n",
       "      <td>0.0</td>\n",
       "      <td>0.0</td>\n",
       "    </tr>\n",
       "    <tr>\n",
       "      <th>4045</th>\n",
       "      <td>1.000000</td>\n",
       "      <td>0.535237</td>\n",
       "      <td>0.317878</td>\n",
       "      <td>0.080490</td>\n",
       "      <td>0.000000</td>\n",
       "      <td>0.060460</td>\n",
       "      <td>0.122774</td>\n",
       "      <td>0.114985</td>\n",
       "      <td>0.114614</td>\n",
       "      <td>0.112389</td>\n",
       "      <td>...</td>\n",
       "      <td>0.0</td>\n",
       "      <td>0.0</td>\n",
       "      <td>0.0</td>\n",
       "      <td>0.0</td>\n",
       "      <td>0.0</td>\n",
       "      <td>0.0</td>\n",
       "      <td>0.0</td>\n",
       "      <td>0.0</td>\n",
       "      <td>0.0</td>\n",
       "      <td>0.0</td>\n",
       "    </tr>\n",
       "  </tbody>\n",
       "</table>\n",
       "<p>4046 rows × 187 columns</p>\n",
       "</div>"
      ],
      "text/plain": [
       "           0         1         2         3         4         5         6    \\\n",
       "0     0.997871  0.847595  0.428693  0.192422  0.044274  0.009366  0.080034   \n",
       "1     1.000000  0.454686  0.067971  0.000515  0.000000  0.083934  0.126674   \n",
       "2     1.000000  0.980458  0.470350  0.235849  0.035040  0.182615  0.330189   \n",
       "3     0.949455  0.764270  0.242266  0.086710  0.087582  0.138562  0.161220   \n",
       "4     0.914286  0.922286  0.590857  0.149714  0.000000  0.236000  0.321714   \n",
       "...        ...       ...       ...       ...       ...       ...       ...   \n",
       "4041  1.000000  0.886778  0.326257  0.071136  0.093855  0.162756  0.152700   \n",
       "4042  1.000000  0.770000  0.395652  0.199130  0.015652  0.046957  0.117826   \n",
       "4043  0.961121  0.524864  0.051537  0.000452  0.000000  0.089964  0.147378   \n",
       "4044  0.975960  0.867241  0.465734  0.212774  0.000718  0.001435  0.067815   \n",
       "4045  1.000000  0.535237  0.317878  0.080490  0.000000  0.060460  0.122774   \n",
       "\n",
       "           7         8         9    ...  177  178  179  180  181  182  183  \\\n",
       "0     0.122180  0.142614  0.153682  ...  0.0  0.0  0.0  0.0  0.0  0.0  0.0   \n",
       "1     0.148816  0.162204  0.181771  ...  0.0  0.0  0.0  0.0  0.0  0.0  0.0   \n",
       "2     0.359838  0.382075  0.396226  ...  0.0  0.0  0.0  0.0  0.0  0.0  0.0   \n",
       "3     0.155120  0.145969  0.148584  ...  0.0  0.0  0.0  0.0  0.0  0.0  0.0   \n",
       "4     0.386857  0.414286  0.433714  ...  0.0  0.0  0.0  0.0  0.0  0.0  0.0   \n",
       "...        ...       ...       ...  ...  ...  ...  ...  ...  ...  ...  ...   \n",
       "4041  0.147486  0.142272  0.141899  ...  0.0  0.0  0.0  0.0  0.0  0.0  0.0   \n",
       "4042  0.147826  0.146522  0.149130  ...  0.0  0.0  0.0  0.0  0.0  0.0  0.0   \n",
       "4043  0.146022  0.153255  0.158228  ...  0.0  0.0  0.0  0.0  0.0  0.0  0.0   \n",
       "4044  0.083961  0.081091  0.083602  ...  0.0  0.0  0.0  0.0  0.0  0.0  0.0   \n",
       "4045  0.114985  0.114614  0.112389  ...  0.0  0.0  0.0  0.0  0.0  0.0  0.0   \n",
       "\n",
       "      184  185  186  \n",
       "0     0.0  0.0  0.0  \n",
       "1     0.0  0.0  0.0  \n",
       "2     0.0  0.0  0.0  \n",
       "3     0.0  0.0  0.0  \n",
       "4     0.0  0.0  0.0  \n",
       "...   ...  ...  ...  \n",
       "4041  0.0  0.0  0.0  \n",
       "4042  0.0  0.0  0.0  \n",
       "4043  0.0  0.0  0.0  \n",
       "4044  0.0  0.0  0.0  \n",
       "4045  0.0  0.0  0.0  \n",
       "\n",
       "[4046 rows x 187 columns]"
      ]
     },
     "execution_count": 4,
     "metadata": {},
     "output_type": "execute_result"
    }
   ],
   "source": [
    "# Each row corresponds to a cropped and downsampled heartbeat\n",
    "# Each heartbeat has 188 normalized ECG values and\n",
    "dfN"
   ]
  },
  {
   "cell_type": "code",
   "execution_count": 5,
   "metadata": {},
   "outputs": [
    {
     "name": "stdout",
     "output_type": "stream",
     "text": [
      "\t\tNumber of ECG samples\n",
      "Healthy:\t4046\n",
      "Abnormal:\t10506\n"
     ]
    }
   ],
   "source": [
    "print('\\t\\tNumber of ECG samples\\nHealthy:\\t{}\\nAbnormal:\\t{}'.format(len(dfN), len(dfA)))"
   ]
  },
  {
   "cell_type": "code",
   "execution_count": 6,
   "metadata": {},
   "outputs": [],
   "source": [
    "def visualize_waveform(waveform, std=None):\n",
    "    sampling_frequenzy = 125 # Hz\n",
    "    time = np.arange(len(waveform)) / sampling_frequenzy * 1000. # relative timescale\n",
    "    \n",
    "    plt.clf()\n",
    "    plt.plot(time, waveform, color='k')\n",
    "    plt.xlabel(\"Time (ms)\")\n",
    "    plt.ylabel(\"Normalized ECG value\")\n",
    "    \n",
    "    if std is not None:\n",
    "        # Plot standard deviation\n",
    "        plt.fill_between(\n",
    "            time,\n",
    "            waveform-std,\n",
    "            waveform+std,\n",
    "            color='k',\n",
    "            alpha=0.4\n",
    "        )\n",
    "        \n",
    "        \n",
    "    plt.show()"
   ]
  },
  {
   "cell_type": "code",
   "execution_count": 7,
   "metadata": {},
   "outputs": [
    {
     "name": "stdout",
     "output_type": "stream",
     "text": [
      "Visualize extracted beat example 2194 (healthy)\n"
     ]
    },
    {
     "data": {
      "image/png": "[encoded data removed]",
      "text/plain": [
       "<Figure size 432x288 with 1 Axes>"
      ]
     },
     "metadata": {
      "needs_background": "light"
     },
     "output_type": "display_data"
    },
    {
     "name": "stdout",
     "output_type": "stream",
     "text": [
      "Visualize extracted beat example 926 (abnormal)\n"
     ]
    },
    {
     "data": {
      "image/png": "[encoded data removed]",
      "text/plain": [
       "<Figure size 432x288 with 1 Axes>"
      ]
     },
     "metadata": {
      "needs_background": "light"
     },
     "output_type": "display_data"
    }
   ],
   "source": [
    "idx = random.choice(range(len(dfN)))\n",
    "print('Visualize extracted beat example {} (healthy)'.format(idx))\n",
    "\n",
    "waveform = dfN.iloc[idx, :].to_numpy()\n",
    "visualize_waveform(waveform)\n",
    "\n",
    "idx = random.choice(range(len(dfA)))\n",
    "print('Visualize extracted beat example {} (abnormal)'.format(idx))\n",
    "\n",
    "waveform = dfA.iloc[idx, :].to_numpy()\n",
    "visualize_waveform(waveform)"
   ]
  },
  {
   "cell_type": "markdown",
   "metadata": {},
   "source": [
    "The next figures visualize the mean waveforms and their corresponding standard deviations (gray bands) for the healty and abnormal classes, respectively. The two mean waveforms are not very distinct and have large dispersions, which will reduce the efficiency of the anomaly detection. The difference between the waveforms might be more visible when comparing the healthy waveform to the indiviudal diagnostic classes. For this dataset, the dominant class is myocardial infarction. We note that the distinction between the two waveforms might be improved by a different preprocessing of the raw data. "
   ]
  },
  {
   "cell_type": "code",
   "execution_count": 8,
   "metadata": {},
   "outputs": [
    {
     "name": "stdout",
     "output_type": "stream",
     "text": [
      "Visualize mean waveform (healthy)\n"
     ]
    },
    {
     "data": {
      "image/png": "[encoded data removed]",
      "text/plain": [
       "<Figure size 432x288 with 1 Axes>"
      ]
     },
     "metadata": {
      "needs_background": "light"
     },
     "output_type": "display_data"
    },
    {
     "name": "stdout",
     "output_type": "stream",
     "text": [
      "Visualize mean waveform (abnormal)\n"
     ]
    },
    {
     "data": {
      "image/png": "[encoded data removed]",
      "text/plain": [
       "<Figure size 432x288 with 1 Axes>"
      ]
     },
     "metadata": {
      "needs_background": "light"
     },
     "output_type": "display_data"
    }
   ],
   "source": [
    "print('Visualize mean waveform (healthy)')\n",
    "visualize_waveform(dfN.mean().to_numpy(), dfN.std().to_numpy())\n",
    "print('Visualize mean waveform (abnormal)')\n",
    "visualize_waveform(dfA.mean().to_numpy(), dfA.std().to_numpy())"
   ]
  },
  {
   "cell_type": "code",
   "execution_count": 9,
   "metadata": {},
   "outputs": [
    {
     "name": "stdout",
     "output_type": "stream",
     "text": [
      "Training: \t79.98% (3236)\n",
      "Validation: \t12.01% (486)\n",
      "Test: \t\t8.01% (324)\n"
     ]
    }
   ],
   "source": [
    "# Split the dataset of healthy ECG beats into training, validation and test subsets\n",
    "train_df, val_df = train_test_split(dfN, test_size=0.2)\n",
    "val_df, test_df = train_test_split(val_df, test_size=0.4)\n",
    "\n",
    "ntot = len(dfN)\n",
    "print('Training: \\t{:.2f}% ({})'.format(len(train_df)/ntot*100., len(train_df)))\n",
    "print('Validation: \\t{:.2f}% ({})'.format(len(val_df)/ntot*100., len(val_df)))\n",
    "print('Test: \\t\\t{:.2f}% ({})'.format(len(test_df)/ntot*100., len(test_df)))"
   ]
  },
  {
   "cell_type": "code",
   "execution_count": 10,
   "metadata": {},
   "outputs": [],
   "source": [
    "def create_dataset(df):\n",
    "    # This approach corresponds effectively to a batch size of 1\n",
    "    # Convert to tensor\n",
    "    # The unsqueeze command converts each data point in a tensor\n",
    "    waveforms = df.astype(np.float32).to_numpy()\n",
    "    dataset = [torch.tensor(wf).unsqueeze(1) for wf in waveforms] \n",
    "    \n",
    "    n_seq, seq_len, n_features = torch.stack(dataset).shape\n",
    "    \n",
    "    return dataset, seq_len, n_features"
   ]
  },
  {
   "cell_type": "code",
   "execution_count": 11,
   "metadata": {},
   "outputs": [],
   "source": [
    "train_dataset, seq_len, n_features = create_dataset(train_df)\n",
    "val_dataset, _, _ = create_dataset(val_df)\n",
    "\n",
    "test_N_dataset, _, _ = create_dataset(test_df)\n",
    "test_A_dataset, _, _ = create_dataset(dfA)"
   ]
  },
  {
   "cell_type": "markdown",
   "metadata": {},
   "source": [
    "### The LSTM autoencoder\n",
    "In the encoding step, an autoencoder learns to represent the input data by a lower dimensional number of features. From this representation, the decoder step reconstructs the original input as close as possible. This way, the model learns the most important features of the data, meaning a compressed representation.\n",
    "In this example, the data points of the ECG have a temporal dependency. We model this using two LSTM layers."
   ]
  },
  {
   "cell_type": "code",
   "execution_count": 12,
   "metadata": {},
   "outputs": [],
   "source": [
    "class Encoder(nn.Module):\n",
    "    def __init__(self, seq_len, n_features, embedding_dim):\n",
    "        super(Encoder, self).__init__()\n",
    "        \n",
    "        self.seq_len = seq_len\n",
    "        self.n_features = n_features\n",
    "        self.embedding_dim = embedding_dim\n",
    "        self.hidden_dim = 2 * embedding_dim\n",
    "        \n",
    "        # Define two LSTM layers to encode the time series data\n",
    "        self.rnn1 = nn.LSTM(\n",
    "            input_size = n_features,\n",
    "            hidden_size = self.hidden_dim,\n",
    "            num_layers = 1,\n",
    "            batch_first = True\n",
    "        )\n",
    "        \n",
    "        self.rnn2 = nn.LSTM(\n",
    "            input_size = self.hidden_dim,\n",
    "            hidden_size = embedding_dim,\n",
    "            num_layers = 1,\n",
    "            batch_first = True\n",
    "        )\n",
    "    \n",
    "    def forward(self, x):\n",
    "        x = x.reshape((1, self.seq_len, self.n_features))\n",
    "        x, (_, _) = self.rnn1(x)\n",
    "        x, (hidden_n, _) = self.rnn2(x)\n",
    "        return hidden_n.reshape((self.n_features, self.embedding_dim))"
   ]
  },
  {
   "cell_type": "code",
   "execution_count": 13,
   "metadata": {},
   "outputs": [],
   "source": [
    "class Decoder(nn.Module):\n",
    "    def __init__(self, seq_len, input_dim, n_features):\n",
    "        super(Decoder, self).__init__()\n",
    "        \n",
    "        self.seq_len = seq_len\n",
    "        self.input_dim = input_dim\n",
    "        self.n_features = n_features\n",
    "\n",
    "        self.hidden_dim = 2 * input_dim\n",
    "        \n",
    "        self.rnn1 = nn.LSTM(\n",
    "            input_size=input_dim,\n",
    "            hidden_size=input_dim,\n",
    "            num_layers=1,\n",
    "            batch_first=True\n",
    "        )\n",
    "        \n",
    "        self.rnn2 = nn.LSTM(\n",
    "            input_size=input_dim,\n",
    "            hidden_size=self.hidden_dim,\n",
    "            num_layers=1,\n",
    "            batch_first=True\n",
    "        )\n",
    "        \n",
    "        self.output_layer = nn.Linear(self.hidden_dim, n_features)\n",
    "        \n",
    "    def forward(self, x):\n",
    "        x = x.repeat(self.seq_len, self.n_features)\n",
    "        x = x.reshape((self.n_features, self.seq_len, self.input_dim))\n",
    "        x, (_, _) = self.rnn1(x)\n",
    "        x, (_, _) = self.rnn2(x)\n",
    "        x = x.reshape((self.seq_len, self.hidden_dim))\n",
    "        return self.output_layer(x)"
   ]
  },
  {
   "cell_type": "code",
   "execution_count": 14,
   "metadata": {},
   "outputs": [],
   "source": [
    "class RecurrentAutoencoder(nn.Module):\n",
    "    def __init__(self, seq_len, n_features, embedding_dim):\n",
    "        super(RecurrentAutoencoder, self).__init__()\n",
    "        self.encoder = Encoder(seq_len, n_features, embedding_dim).to(device)\n",
    "        self.decoder = Decoder(seq_len, embedding_dim, n_features).to(device)\n",
    "    \n",
    "    def forward(self, x):\n",
    "        x = self.encoder(x)\n",
    "        x = self.decoder(x)\n",
    "        return x"
   ]
  },
  {
   "cell_type": "code",
   "execution_count": 15,
   "metadata": {},
   "outputs": [],
   "source": [
    "def load_model():\n",
    "    # To track loss for each epoch\n",
    "    loss_history = dict(train=[], val=[])\n",
    "    \n",
    "    # Learning rate\n",
    "    lrn_rate = .01\n",
    "        \n",
    "    if os.path.isfile('model.pth'):\n",
    "        # Load model and loss history\n",
    "        model = torch.load('model.pth')\n",
    "        loss_df = pd.read_csv('loss_history.csv', index_col=0)\n",
    "        loss_history['train'] = loss_df.train.tolist()\n",
    "        loss_history['val'] = loss_df.val.tolist()\n",
    "        \n",
    "        lrn_rate = lrn_rate * np.power(lrn_gamma, len(loss_history['val']))\n",
    "        val_loss_min = np.min(loss_history['val'])\n",
    "    else:\n",
    "        model = RecurrentAutoencoder(seq_len, n_features, 128)\n",
    "        # To track validation loss changes\n",
    "        val_loss_min = np.Inf      \n",
    "    \n",
    "    model = model.to(device)\n",
    "    return model, loss_history, val_loss_min, lrn_rate"
   ]
  },
  {
   "cell_type": "code",
   "execution_count": 26,
   "metadata": {},
   "outputs": [],
   "source": [
    "lrn_gamma = 0.99\n",
    "\n",
    "model, loss_history, val_loss_min, lrn_rate = load_model()"
   ]
  },
  {
   "cell_type": "code",
   "execution_count": 27,
   "metadata": {},
   "outputs": [
    {
     "data": {
      "text/plain": [
       "RecurrentAutoencoder(\n",
       "  (encoder): Encoder(\n",
       "    (rnn1): LSTM(1, 256, batch_first=True)\n",
       "    (rnn2): LSTM(256, 128, batch_first=True)\n",
       "  )\n",
       "  (decoder): Decoder(\n",
       "    (rnn1): LSTM(128, 128, batch_first=True)\n",
       "    (rnn2): LSTM(128, 256, batch_first=True)\n",
       "    (output_layer): Linear(in_features=256, out_features=1, bias=True)\n",
       "  )\n",
       ")"
      ]
     },
     "execution_count": 27,
     "metadata": {},
     "output_type": "execute_result"
    }
   ],
   "source": [
    "model"
   ]
  },
  {
   "cell_type": "markdown",
   "metadata": {},
   "source": [
    "### Train the network\n",
    "As input for the training, we just need the healthy waveforms. The model learns to represent this data in an unsupervised manner by minimizing the reconstruction loss. We use a standard L1 Loss function (Least Absolute Deviations) to minimize the sum of all the absolute differences between the true value and the predicted value."
   ]
  },
  {
   "cell_type": "code",
   "execution_count": 28,
   "metadata": {},
   "outputs": [],
   "source": [
    "criterion = nn.L1Loss(reduction=\"sum\").to(device)\n",
    "optimizer = optim.Adam(model.parameters(), lr=lrn_rate)\n",
    "scheduler = optim.lr_scheduler.StepLR(optimizer, step_size=1, gamma=lrn_gamma)"
   ]
  },
  {
   "cell_type": "code",
   "execution_count": 29,
   "metadata": {},
   "outputs": [
    {
     "name": "stdout",
     "output_type": "stream",
     "text": [
      "11 \t28.2708 \t27.8928 \t\t0.0090\n",
      "12 \t28.2097 \t29.1774 \t\t0.0090\n",
      "13 \t27.9230 \t28.4031 \t\t0.0089\n",
      "14 \t28.2040 \t30.7012 \t\t0.0088\n",
      "15 \t28.3351 \t28.3568 \t\t0.0087\n",
      "16 \t27.9865 \t23.0098 \t\t0.0086\n",
      "17 \t28.0558 \t25.8536 \t\t0.0085\n",
      "18 \t27.9899 \t27.2267 \t\t0.0084\n",
      "19 \t27.3876 \t22.7765 \t\t0.0083\n",
      "20 \t28.0168 \t24.7474 \t\t0.0083\n"
     ]
    }
   ],
   "source": [
    "# Specify the number of epochs to train the model\n",
    "n_epochs = 10\n",
    "\n",
    "# Set start value\n",
    "n_start = len(loss_history['val'])+1\n",
    "\n",
    "for n_loop, epoch in enumerate(range(n_start, n_start+n_epochs)):\n",
    "    # Model training\n",
    "    model.train()\n",
    "    \n",
    "    train_losses = []\n",
    "    for waveform in train_dataset:\n",
    "        optimizer.zero_grad()\n",
    "        waveform = waveform.to(device)\n",
    "        prediction = model(waveform)\n",
    "        loss = criterion(prediction, waveform)\n",
    "        loss.backward()\n",
    "        optimizer.step()\n",
    "        train_losses.append(loss.item())\n",
    "    \n",
    "    # Model validation\n",
    "    val_losses = []\n",
    "    model.eval()\n",
    "    with torch.no_grad():\n",
    "        for waveform in val_dataset:\n",
    "            waveform = waveform.to(device)\n",
    "            prediction = model(waveform)\n",
    "            loss = criterion(prediction, waveform)\n",
    "            val_losses.append(loss.item())\n",
    "    \n",
    "    train_loss = np.mean(train_losses)\n",
    "    val_loss = np.mean(val_losses)\n",
    "    \n",
    "    loss_history['train'].append(train_loss)\n",
    "    loss_history['val'].append(val_loss)\n",
    "    \n",
    "    # Save the model if validation loss decreases\n",
    "    if val_loss < val_loss_min:\n",
    "        torch.save(model, 'model.pth')\n",
    "        val_loss_min = val_loss\n",
    "    \n",
    "    # Adjust learning rate\n",
    "    curr_lr = scheduler.get_last_lr()\n",
    "    scheduler.step()\n",
    "    \n",
    "    if n_loop == 0:\n",
    "        print('Epoch \\tTraining loss \\tValidation loss \\tLearning rate\\n')\n",
    "              \n",
    "    print('{} \\t{:.4f} \\t{:.4f} \\t\\t{:.4f}'.format(epoch,train_loss, val_loss, curr_lr[0]))\n",
    "\n",
    "loss_df = pd.DataFrame.from_dict(loss_history)\n",
    "loss_df.to_csv('loss_history.csv', index=True)"
   ]
  },
  {
   "cell_type": "markdown",
   "metadata": {},
   "source": [
    "### Visualize loss history\n",
    "In this first run, the training loss decreases with the number of epochs, which is desired. However, the number of epochs needs to be increased for convergence. The validation loss scatters a lot, indicating that the validation set is too small. Here, we are interested in the implementation of the LSTM autoencoder and do not continue training the model to improve the results."
   ]
  },
  {
   "cell_type": "code",
   "execution_count": 30,
   "metadata": {},
   "outputs": [
    {
     "data": {
      "image/png": "[encoded data removed]",
      "text/plain": [
       "<Figure size 432x288 with 1 Axes>"
      ]
     },
     "metadata": {
      "needs_background": "light"
     },
     "output_type": "display_data"
    }
   ],
   "source": [
    "epochs = loss_df.index.tolist()\n",
    "\n",
    "plt.clf()\n",
    "\n",
    "plt.plot(epochs, loss_df['train'].to_numpy(), ls='-', label='Training')\n",
    "plt.plot(epochs, loss_df['val'].to_numpy(), ls='--', label='Validation')\n",
    "\n",
    "plt.xlabel(\"Epoch\")\n",
    "plt.ylabel('Loss')\n",
    "plt.grid(True)\n",
    "plt.legend()\n",
    "plt.show()"
   ]
  },
  {
   "cell_type": "markdown",
   "metadata": {},
   "source": [
    "### Evaluate the training datasets\n",
    "We choose a threshold of the reconstruction error (the loss) to make the prediction whether a heartbeat is an anomaly or not. First, we visualize the distribution of the losses of the training dataset. The majority of the waveforms are reconstructed with a loss below 30.\n",
    "Therefore, we classify heartbeats below this threshold as healthy and heartbeats with larger losses as anomalies. This choice is a trade-off between precision and sensitivity towards a given class and needs to be fine-tuned for a real world task. For example, one can be more conservative by lowering the threshold. This would result in more false positives. On the other hand, increasing the threshold will reduce the number of false positives but increase the probability to miss actual anomalies.\n",
    "\n",
    "We note again, that the model is not converged and thus the reconstruction-loss distribution is broad and a large number of heartbeats have a large reconstruction loss."
   ]
  },
  {
   "cell_type": "code",
   "execution_count": 31,
   "metadata": {},
   "outputs": [],
   "source": [
    "def make_pretiction(dataset, model):\n",
    "    predictions, losses = [], []\n",
    "    \n",
    "    model.eval()\n",
    "    with torch.no_grad():\n",
    "        for waveform in dataset:\n",
    "            waveform.to(device)\n",
    "            prediction = model(waveform)\n",
    "            loss = criterion(prediction, waveform)\n",
    "            \n",
    "            predictions.append(prediction.cpu().numpy().flatten())\n",
    "            losses.append(loss.item())\n",
    "    return predictions, losses"
   ]
  },
  {
   "cell_type": "code",
   "execution_count": 32,
   "metadata": {},
   "outputs": [],
   "source": [
    "_, train_losses = make_pretiction(train_dataset, model)"
   ]
  },
  {
   "cell_type": "code",
   "execution_count": 37,
   "metadata": {},
   "outputs": [
    {
     "data": {
      "image/png": "[encoded data removed]",
      "text/plain": [
       "<Figure size 432x288 with 1 Axes>"
      ]
     },
     "metadata": {
      "needs_background": "light"
     },
     "output_type": "display_data"
    }
   ],
   "source": [
    "ax = sns.histplot(data=train_losses, bins=20, kde=True)\n",
    "ax.set(xlabel='Reconstruction loss', ylabel='Count', title='Training dataset')\n",
    "plt.show()"
   ]
  },
  {
   "cell_type": "code",
   "execution_count": 38,
   "metadata": {},
   "outputs": [],
   "source": [
    "test_N_pred , test_N_losses = make_pretiction(test_N_dataset, model)\n",
    "# Use a subset of the anomaly set for quick testing\n",
    "test_A_pred , test_A_losses = make_pretiction(test_A_dataset[:len(test_N_dataset)], model)"
   ]
  },
  {
   "cell_type": "code",
   "execution_count": 39,
   "metadata": {},
   "outputs": [],
   "source": [
    "threshold = 30.\n",
    "\n",
    "test_losses = np.concatenate((test_N_losses, test_A_losses))\n",
    "prediction = [0 if loss <= threshold else 1 for loss in test_losses]\n",
    "\n",
    "label = np.concatenate((np.zeros(len(test_N_losses)), np.ones(len(test_A_losses))))"
   ]
  },
  {
   "cell_type": "markdown",
   "metadata": {},
   "source": [
    "### Accuracy, Precision, Recall & F1-Score\n",
    "In our example, a label of 1 (positive) represents the anomalies.\n",
    "\n",
    "#### True Negatives:\n",
    "Number of correctly predicted negatives out of all negatives in the test dataset\n",
    "\n",
    "#### False Positives:\n",
    "Number of incorrect positive predictions\n",
    "\n",
    "#### False Negatives:\n",
    "Number of incorrect negative predictions\n",
    "\n",
    "#### True Positives:\n",
    "Number of correctly predicted positives out of all positves in the test dataset"
   ]
  },
  {
   "cell_type": "code",
   "execution_count": 46,
   "metadata": {},
   "outputs": [
    {
     "name": "stdout",
     "output_type": "stream",
     "text": [
      "True Negatives: \t277\n",
      "False Positives: \t47\n",
      "False Negatives: \t191\n",
      "True Positives: \t133\n"
     ]
    }
   ],
   "source": [
    "conf_matrix = confusion_matrix(y_true=label, y_pred=prediction)\n",
    "matrix_label = ['True Negatives', 'False Positives', 'False Negatives', 'True Positives']\n",
    "\n",
    "for ml, cm in zip(matrix_label, conf_matrix.ravel()):\n",
    "    print('{}: \\t{}'.format(ml,cm))"
   ]
  },
  {
   "cell_type": "markdown",
   "metadata": {},
   "source": [
    "#### Precision score:\n",
    "Represents the model’s ability to correctly predict positives:\n",
    "Precision = TP / (FP + TP)\n",
    "\n",
    "#### Recall score:\n",
    "Represents the model’s ability to correctly predict positives out of actual positives:\n",
    "Recall = TP / (FN + TP)\n",
    "\n",
    "#### Accuracy score:\n",
    "Represents the model’s ability to correctly predict positives and negatives out of all predictions:\n",
    "Accuracy = (TP + TN)/ (TP + FN + TN + FP)\n",
    "\n",
    "#### F1 score:\n",
    "Represents a weighted average of precision and recall:\n",
    "F1 = 2 x Precision x Recall / (Precision + Recall)"
   ]
  },
  {
   "cell_type": "code",
   "execution_count": 50,
   "metadata": {},
   "outputs": [
    {
     "name": "stdout",
     "output_type": "stream",
     "text": [
      "Precision: \t0.739\n",
      "Recall: \t0.410\n",
      "Accuracy: \t0.633\n",
      "F1: \t\t0.528\n"
     ]
    }
   ],
   "source": [
    "print('Precision: \\t{:.3f}'.format(precision_score(label, prediction)))\n",
    "print('Recall: \\t{:.3f}'.format(recall_score(label, prediction)))\n",
    "print('Accuracy: \\t{:.3f}'.format(accuracy_score(label, prediction)))\n",
    "print('F1: \\t\\t{:.3f}'.format(f1_score(label, prediction)))"
   ]
  },
  {
   "cell_type": "code",
   "execution_count": null,
   "metadata": {},
   "outputs": [],
   "source": []
  }
 ],
 "metadata": {
  "kernelspec": {
   "display_name": "Python 3",
   "language": "python",
   "name": "python3"
  },
  "language_info": {
   "codemirror_mode": {
    "name": "ipython",
    "version": 3
   },
   "file_extension": ".py",
   "mimetype": "text/x-python",
   "name": "python",
   "nbconvert_exporter": "python",
   "pygments_lexer": "ipython3",
   "version": "3.8.5"
  }
 },
 "nbformat": 4,
 "nbformat_minor": 4
}
